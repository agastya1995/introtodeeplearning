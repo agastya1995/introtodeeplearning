{
  "nbformat": 4,
  "nbformat_minor": 0,
  "metadata": {
    "colab": {
      "provenance": [],
      "gpuType": "T4"
    },
    "kernelspec": {
      "name": "python3",
      "display_name": "Python 3"
    },
    "language_info": {
      "name": "python"
    },
    "accelerator": "GPU"
  },
  "cells": [
    {
      "cell_type": "code",
      "execution_count": null,
      "metadata": {
        "id": "AtccZfO929Cl"
      },
      "outputs": [],
      "source": [
        "import tensorflow as tf"
      ]
    },
    {
      "cell_type": "code",
      "source": [
        "tf_string = tf.constant('Hello', dtype=tf.string)\n",
        "tf_num = tf.constant(242552.2425324, dtype=tf.float64)"
      ],
      "metadata": {
        "id": "68rYXWae3PhT"
      },
      "execution_count": null,
      "outputs": []
    },
    {
      "cell_type": "code",
      "source": [
        "tf_string, tf_num"
      ],
      "metadata": {
        "colab": {
          "base_uri": "https://localhost:8080/"
        },
        "id": "oK_kfXAo3nHs",
        "outputId": "3ae0a002-9a0c-4969-d26f-4ce74042d7bc"
      },
      "execution_count": null,
      "outputs": [
        {
          "output_type": "execute_result",
          "data": {
            "text/plain": [
              "(<tf.Tensor: shape=(), dtype=string, numpy=b'Hello'>,\n",
              " <tf.Tensor: shape=(), dtype=float64, numpy=242552.2425324>)"
            ]
          },
          "metadata": {},
          "execution_count": 3
        }
      ]
    },
    {
      "cell_type": "code",
      "source": [
        "tf.rank(tf_string)"
      ],
      "metadata": {
        "colab": {
          "base_uri": "https://localhost:8080/"
        },
        "id": "QNNfFncb3r_T",
        "outputId": "b8bb0c82-54ea-45eb-96c9-b16491d1f029"
      },
      "execution_count": null,
      "outputs": [
        {
          "output_type": "execute_result",
          "data": {
            "text/plain": [
              "<tf.Tensor: shape=(), dtype=int32, numpy=0>"
            ]
          },
          "metadata": {},
          "execution_count": 4
        }
      ]
    },
    {
      "cell_type": "code",
      "source": [
        "tf.rank(tf_string).shape"
      ],
      "metadata": {
        "colab": {
          "base_uri": "https://localhost:8080/"
        },
        "id": "7oeRjFpf4opa",
        "outputId": "7114dbd5-7ac7-4e10-f53d-0b9d5c0e4d94"
      },
      "execution_count": null,
      "outputs": [
        {
          "output_type": "execute_result",
          "data": {
            "text/plain": [
              "TensorShape([])"
            ]
          },
          "metadata": {},
          "execution_count": 5
        }
      ]
    },
    {
      "cell_type": "code",
      "source": [
        "tf_mat = tf.constant([[13, 13, 3], [213.123, 523.453, 14.12131]], dtype=tf.float64)"
      ],
      "metadata": {
        "id": "vPGgzCOr4til"
      },
      "execution_count": null,
      "outputs": []
    },
    {
      "cell_type": "code",
      "source": [
        "\n",
        "tf.rank?"
      ],
      "metadata": {
        "id": "Ujz2qmRa46lE"
      },
      "execution_count": null,
      "outputs": []
    },
    {
      "cell_type": "code",
      "source": [
        "tf_mat.shape"
      ],
      "metadata": {
        "colab": {
          "base_uri": "https://localhost:8080/"
        },
        "id": "fic0e4I55C9Y",
        "outputId": "cee25d4a-ae48-4922-9228-608fedc4a912"
      },
      "execution_count": null,
      "outputs": [
        {
          "output_type": "execute_result",
          "data": {
            "text/plain": [
              "TensorShape([2, 3])"
            ]
          },
          "metadata": {},
          "execution_count": 8
        }
      ]
    },
    {
      "cell_type": "code",
      "source": [
        "assert isinstance(tf_mat, tf.Tensor), \"matrix must be a tf Tensor object\"\n",
        "assert tf.rank(tf_mat).numpy() == 2"
      ],
      "metadata": {
        "id": "yN-DW_z1426m"
      },
      "execution_count": null,
      "outputs": []
    },
    {
      "cell_type": "code",
      "source": [
        "# 4 D tensor, of shape (10, 256, 256, 3)\n",
        "# Similar to 10 RGB images of 256 * 256 pixels\n",
        "\n",
        "images = tf.zeros(shape=(10, 256, 256, 3), dtype=tf.uint16)"
      ],
      "metadata": {
        "id": "nvbVo4M75Vek"
      },
      "execution_count": null,
      "outputs": []
    },
    {
      "cell_type": "code",
      "source": [
        "assert isinstance(images, tf.Tensor), \"matrix must be a tf Tensor object\"\n",
        "assert tf.rank(images).numpy() == 4, \"matrix must be of rank 4\"\n",
        "assert tf.shape(images).numpy().tolist() == [10, 256, 256, 3], \"matrix is incorrect shape\""
      ],
      "metadata": {
        "id": "xXWIHY_G5srg"
      },
      "execution_count": null,
      "outputs": []
    },
    {
      "cell_type": "code",
      "source": [
        "tf.shape(images).numpy()"
      ],
      "metadata": {
        "colab": {
          "base_uri": "https://localhost:8080/"
        },
        "id": "kKU_2Mpu6Aqd",
        "outputId": "d4550c4f-e7e2-4da8-c38d-9b37d8cab43e"
      },
      "execution_count": null,
      "outputs": [
        {
          "output_type": "execute_result",
          "data": {
            "text/plain": [
              "array([ 10, 256, 256,   3], dtype=int32)"
            ]
          },
          "metadata": {},
          "execution_count": 12
        }
      ]
    },
    {
      "cell_type": "code",
      "source": [
        "tf.rank(images)"
      ],
      "metadata": {
        "colab": {
          "base_uri": "https://localhost:8080/"
        },
        "id": "_RKn7DpT6KoX",
        "outputId": "b2aca03e-9434-4473-8558-bc69e389233a"
      },
      "execution_count": null,
      "outputs": [
        {
          "output_type": "execute_result",
          "data": {
            "text/plain": [
              "<tf.Tensor: shape=(), dtype=int32, numpy=4>"
            ]
          },
          "metadata": {},
          "execution_count": 13
        }
      ]
    },
    {
      "cell_type": "markdown",
      "source": [
        "## Computation on Tensors"
      ],
      "metadata": {
        "id": "EBFf5wZ86QAP"
      }
    },
    {
      "cell_type": "code",
      "source": [
        "a = tf.constant(123)\n",
        "b = tf.constant(22)"
      ],
      "metadata": {
        "id": "J_S0JNJS6bwB"
      },
      "execution_count": null,
      "outputs": []
    },
    {
      "cell_type": "code",
      "source": [
        "a + b"
      ],
      "metadata": {
        "colab": {
          "base_uri": "https://localhost:8080/"
        },
        "id": "_LD8X4JV6pve",
        "outputId": "54122490-2908-4f76-da8a-a5caa98b65bc"
      },
      "execution_count": null,
      "outputs": [
        {
          "output_type": "execute_result",
          "data": {
            "text/plain": [
              "<tf.Tensor: shape=(), dtype=int32, numpy=145>"
            ]
          },
          "metadata": {},
          "execution_count": 15
        }
      ]
    },
    {
      "cell_type": "code",
      "source": [
        "tf.add(a, b)"
      ],
      "metadata": {
        "colab": {
          "base_uri": "https://localhost:8080/"
        },
        "id": "VT7ygmk56q3o",
        "outputId": "bb36abbd-0e30-475a-8784-62408d24e6a2"
      },
      "execution_count": null,
      "outputs": [
        {
          "output_type": "execute_result",
          "data": {
            "text/plain": [
              "<tf.Tensor: shape=(), dtype=int32, numpy=145>"
            ]
          },
          "metadata": {},
          "execution_count": 16
        }
      ]
    },
    {
      "cell_type": "code",
      "source": [
        "\n",
        "tf.divide?"
      ],
      "metadata": {
        "id": "X6LAhuu465Wl"
      },
      "execution_count": null,
      "outputs": []
    },
    {
      "cell_type": "code",
      "source": [
        "\n",
        "\n",
        "### Defining Tensor computations ###\n",
        "\n",
        "# Construct a simple computation function\n",
        "def func(a,b):\n",
        "  '''TODO: Define the operation for c, d, e (use tf.add, tf.subtract, tf.multiply).'''\n",
        "  c = tf.add(a, b)\n",
        "  d = tf.subtract(a, b)\n",
        "  e = tf.multiply(a, b)\n",
        "  return e\n",
        "\n"
      ],
      "metadata": {
        "id": "NDRsrtEX6sdE"
      },
      "execution_count": null,
      "outputs": []
    },
    {
      "cell_type": "code",
      "source": [
        "# Consider example values for a,b\n",
        "a, b = 1.5, 2.5\n",
        "# Execute the computation\n",
        "e_out = func(a,b)\n",
        "print(e_out)"
      ],
      "metadata": {
        "colab": {
          "base_uri": "https://localhost:8080/"
        },
        "id": "oSECoro_686Z",
        "outputId": "5670df0d-0cf5-40f7-ee45-bdf71bdee94f"
      },
      "execution_count": null,
      "outputs": [
        {
          "output_type": "stream",
          "name": "stdout",
          "text": [
            "tf.Tensor(3.75, shape=(), dtype=float32)\n"
          ]
        }
      ]
    },
    {
      "cell_type": "markdown",
      "source": [
        "<img url=https://camo.githubusercontent.com/273c1d7e82c4ced2b3567fe92adf1b3db4836cc0cdd9e3b094486136b6d520eb/68747470733a2f2f7261772e67697468756275736572636f6e74656e742e636f6d2f61616d696e692f696e74726f746f646565706c6561726e696e672f6d61737465722f6c6162312f696d672f636f6d7075746174696f6e2d67726170682d322e706e67>"
      ],
      "metadata": {
        "id": "dchgKQFb-Hl2"
      }
    },
    {
      "cell_type": "code",
      "source": [],
      "metadata": {
        "id": "BjnaL7bi_t5E"
      },
      "execution_count": null,
      "outputs": []
    }
  ]
}